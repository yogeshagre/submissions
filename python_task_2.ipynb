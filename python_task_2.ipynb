{
  "nbformat": 4,
  "nbformat_minor": 0,
  "metadata": {
    "colab": {
      "provenance": [],
      "name": "python_task_2.ipynb",
      "authorship_tag": "ABX9TyPiOtNTgTLembF3Y78VGxwG",
      "include_colab_link": true
    },
    "kernelspec": {
      "name": "python3",
      "display_name": "Python 3"
    },
    "language_info": {
      "name": "python"
    }
  },
  "cells": [
    {
      "cell_type": "markdown",
      "metadata": {
        "id": "view-in-github",
        "colab_type": "text"
      },
      "source": [
        "<a href=\"https://colab.research.google.com/github/yogeshagre/submissions/blob/master/python_task_2.ipynb\" target=\"_parent\"><img src=\"https://colab.research.google.com/assets/colab-badge.svg\" alt=\"Open In Colab\"/></a>"
      ]
    },
    {
      "cell_type": "markdown",
      "source": [
        "#Python Task 2\n",
        "\n",
        "\n"
      ],
      "metadata": {
        "id": "gXE4KutVuYAB"
      }
    },
    {
      "cell_type": "code",
      "source": [
        "# Mounting google drive\n",
        "from google.colab import drive\n",
        "drive.mount('/content/drive')"
      ],
      "metadata": {
        "colab": {
          "base_uri": "https://localhost:8080/"
        },
        "id": "Zmw9jR6bufDT",
        "outputId": "a3ae0e1d-1155-4cbd-ce6e-a9b20c673b8b"
      },
      "execution_count": null,
      "outputs": [
        {
          "output_type": "stream",
          "name": "stdout",
          "text": [
            "Mounted at /content/drive\n"
          ]
        }
      ]
    },
    {
      "cell_type": "code",
      "execution_count": null,
      "metadata": {
        "colab": {
          "base_uri": "https://localhost:8080/"
        },
        "id": "LzDzjNzXt-tU",
        "outputId": "8e9dc35c-1686-46e6-8053-3495bfd219da"
      },
      "outputs": [
        {
          "output_type": "stream",
          "name": "stdout",
          "text": [
            "         1001400  1001402  1001404  1001406  1001408  1001410  1001412  \\\n",
            "1001400      0.0      0.0      0.0      0.0      0.0      0.0      0.0   \n",
            "1001402      0.0      0.0      0.0      0.0      0.0      0.0      0.0   \n",
            "1001404      0.0      0.0      0.0      0.0      0.0      0.0      0.0   \n",
            "1001406      0.0      0.0      0.0      0.0      0.0      0.0      0.0   \n",
            "1001408      0.0      0.0      0.0      0.0      0.0      0.0      0.0   \n",
            "1001410      0.0      0.0      0.0      0.0      0.0      0.0      0.0   \n",
            "1001412      0.0      0.0      0.0      0.0      0.0      0.0      0.0   \n",
            "1001414      0.0      0.0      0.0      0.0      0.0      0.0      0.0   \n",
            "1001416      0.0      0.0      0.0      0.0      0.0      0.0      0.0   \n",
            "1001418      0.0      0.0      0.0      0.0      0.0      0.0      0.0   \n",
            "1001420      0.0      0.0      0.0      0.0      0.0      0.0      0.0   \n",
            "1001422      0.0      0.0      0.0      0.0      0.0      0.0      0.0   \n",
            "1001424      0.0      0.0      0.0      0.0      0.0      0.0      0.0   \n",
            "1001426      0.0      0.0      0.0      0.0      0.0      0.0      0.0   \n",
            "1001428      0.0      0.0      0.0      0.0      0.0      0.0      0.0   \n",
            "1001430      0.0      0.0      0.0      0.0      0.0      0.0      0.0   \n",
            "1001432      0.0      0.0      0.0      0.0      0.0      0.0      0.0   \n",
            "1001434      0.0      0.0      0.0      0.0      0.0      0.0      0.0   \n",
            "1001436      0.0      0.0      0.0      0.0      0.0      0.0      0.0   \n",
            "1001437      0.0      0.0      0.0      0.0      0.0      0.0      0.0   \n",
            "1001438      0.0      0.0      0.0      0.0      0.0      0.0      0.0   \n",
            "1001440      0.0      0.0      0.0      0.0      0.0      0.0      0.0   \n",
            "1001442      0.0      0.0      0.0      0.0      0.0      0.0      0.0   \n",
            "1001444      0.0      0.0      0.0      0.0      0.0      0.0      0.0   \n",
            "1001446      0.0      0.0      0.0      0.0      0.0      0.0      0.0   \n",
            "1001448      0.0      0.0      0.0      0.0      0.0      0.0      0.0   \n",
            "1001450      0.0      0.0      0.0      0.0      0.0      0.0      0.0   \n",
            "1001452      0.0      0.0      0.0      0.0      0.0      0.0      0.0   \n",
            "1001454      0.0      0.0      0.0      0.0      0.0      0.0      0.0   \n",
            "1001456      0.0      0.0      0.0      0.0      0.0      0.0      0.0   \n",
            "1001458      0.0      0.0      0.0      0.0      0.0      0.0      0.0   \n",
            "1001460      0.0      0.0      0.0      0.0      0.0      0.0      0.0   \n",
            "1001461      0.0      0.0      0.0      0.0      0.0      0.0      0.0   \n",
            "1001462      0.0      0.0      0.0      0.0      0.0      0.0      0.0   \n",
            "1001464      0.0      0.0      0.0      0.0      0.0      0.0      0.0   \n",
            "1001466      0.0      0.0      0.0      0.0      0.0      0.0      0.0   \n",
            "1001468      0.0      0.0      0.0      0.0      0.0      0.0      0.0   \n",
            "1001470      0.0      0.0      0.0      0.0      0.0      0.0      0.0   \n",
            "1001472      0.0      0.0      0.0      0.0      0.0      0.0      0.0   \n",
            "1001488      0.0      0.0      0.0      0.0      0.0      0.0      0.0   \n",
            "1004354      0.0      0.0      0.0      0.0      0.0      0.0      0.0   \n",
            "1004355      0.0      0.0      0.0      0.0      0.0      0.0      0.0   \n",
            "1004356      0.0      0.0      0.0      0.0      0.0      0.0      0.0   \n",
            "\n",
            "         1001414  1001416  1001418  ...  1001462  1001464  1001466  1001468  \\\n",
            "1001400      0.0      0.0      0.0  ...      0.0      0.0      0.0      0.0   \n",
            "1001402      0.0      0.0      0.0  ...      0.0      0.0      0.0      0.0   \n",
            "1001404      0.0      0.0      0.0  ...      0.0      0.0      0.0      0.0   \n",
            "1001406      0.0      0.0      0.0  ...      0.0      0.0      0.0      0.0   \n",
            "1001408      0.0      0.0      0.0  ...      0.0      0.0      0.0      0.0   \n",
            "1001410      0.0      0.0      0.0  ...      0.0      0.0      0.0      0.0   \n",
            "1001412      0.0      0.0      0.0  ...      0.0      0.0      0.0      0.0   \n",
            "1001414      0.0      0.0      0.0  ...      0.0      0.0      0.0      0.0   \n",
            "1001416      0.0      0.0      0.0  ...      0.0      0.0      0.0      0.0   \n",
            "1001418      0.0      0.0      0.0  ...      0.0      0.0      0.0      0.0   \n",
            "1001420      0.0      0.0      0.0  ...      0.0      0.0      0.0      0.0   \n",
            "1001422      0.0      0.0      0.0  ...      0.0      0.0      0.0      0.0   \n",
            "1001424      0.0      0.0      0.0  ...      0.0      0.0      0.0      0.0   \n",
            "1001426      0.0      0.0      0.0  ...      0.0      0.0      0.0      0.0   \n",
            "1001428      0.0      0.0      0.0  ...      0.0      0.0      0.0      0.0   \n",
            "1001430      0.0      0.0      0.0  ...      0.0      0.0      0.0      0.0   \n",
            "1001432      0.0      0.0      0.0  ...      0.0      0.0      0.0      0.0   \n",
            "1001434      0.0      0.0      0.0  ...      0.0      0.0      0.0      0.0   \n",
            "1001436      0.0      0.0      0.0  ...      0.0      0.0      0.0      0.0   \n",
            "1001437      0.0      0.0      0.0  ...      0.0      0.0      0.0      0.0   \n",
            "1001438      0.0      0.0      0.0  ...      0.0      0.0      0.0      0.0   \n",
            "1001440      0.0      0.0      0.0  ...      0.0      0.0      0.0      0.0   \n",
            "1001442      0.0      0.0      0.0  ...      0.0      0.0      0.0      0.0   \n",
            "1001444      0.0      0.0      0.0  ...      0.0      0.0      0.0      0.0   \n",
            "1001446      0.0      0.0      0.0  ...      0.0      0.0      0.0      0.0   \n",
            "1001448      0.0      0.0      0.0  ...      0.0      0.0      0.0      0.0   \n",
            "1001450      0.0      0.0      0.0  ...      0.0      0.0      0.0      0.0   \n",
            "1001452      0.0      0.0      0.0  ...      0.0      0.0      0.0      0.0   \n",
            "1001454      0.0      0.0      0.0  ...      0.0      0.0      0.0      0.0   \n",
            "1001456      0.0      0.0      0.0  ...      0.0      0.0      0.0      0.0   \n",
            "1001458      0.0      0.0      0.0  ...      0.0      0.0      0.0      0.0   \n",
            "1001460      0.0      0.0      0.0  ...      0.0      0.0      0.0      0.0   \n",
            "1001461      0.0      0.0      0.0  ...      0.0      0.0      0.0      0.0   \n",
            "1001462      0.0      0.0      0.0  ...      0.0      0.0      0.0      0.0   \n",
            "1001464      0.0      0.0      0.0  ...      0.0      0.0      0.0      0.0   \n",
            "1001466      0.0      0.0      0.0  ...      0.0      0.0      0.0      0.0   \n",
            "1001468      0.0      0.0      0.0  ...      0.0      0.0      0.0      0.0   \n",
            "1001470      0.0      0.0      0.0  ...      0.0      0.0      0.0      0.0   \n",
            "1001472      0.0      0.0      0.0  ...      0.0      0.0      0.0      0.0   \n",
            "1001488      0.0      0.0      0.0  ...      0.0      0.0      0.0      0.0   \n",
            "1004354      0.0      0.0      0.0  ...      0.0      0.0      0.0      0.0   \n",
            "1004355      0.0      0.0      0.0  ...      0.0      0.0      0.0      0.0   \n",
            "1004356      0.0      0.0      0.0  ...      0.0      0.0      0.0      0.0   \n",
            "\n",
            "         1001470  1001472  1001488  1004354  1004355  1004356  \n",
            "1001400      0.0      0.0      0.0      0.0      0.0      0.0  \n",
            "1001402      0.0      0.0      0.0      0.0      0.0      0.0  \n",
            "1001404      0.0      0.0      0.0      0.0      0.0      0.0  \n",
            "1001406      0.0      0.0      0.0      0.0      0.0      0.0  \n",
            "1001408      0.0      0.0      0.0      0.0      0.0      0.0  \n",
            "1001410      0.0      0.0      0.0      0.0      0.0      0.0  \n",
            "1001412      0.0      0.0      0.0      0.0      0.0      0.0  \n",
            "1001414      0.0      0.0      0.0      0.0      0.0      0.0  \n",
            "1001416      0.0      0.0      0.0      0.0      0.0      0.0  \n",
            "1001418      0.0      0.0      0.0      0.0      0.0      0.0  \n",
            "1001420      0.0      0.0      0.0      0.0      0.0      0.0  \n",
            "1001422      0.0      0.0      0.0      0.0      0.0      0.0  \n",
            "1001424      0.0      0.0      0.0      0.0      0.0      0.0  \n",
            "1001426      0.0      0.0      0.0      0.0      0.0      0.0  \n",
            "1001428      0.0      0.0      0.0      0.0      0.0      0.0  \n",
            "1001430      0.0      0.0      0.0      0.0      0.0      0.0  \n",
            "1001432      0.0      0.0      0.0      0.0      0.0      0.0  \n",
            "1001434      0.0      0.0      0.0      0.0      0.0      0.0  \n",
            "1001436      0.0      0.0      0.0      0.0      0.0      0.0  \n",
            "1001437      0.0      0.0      0.0      0.0      0.0      0.0  \n",
            "1001438      0.0      0.0      0.0      0.0      0.0      0.0  \n",
            "1001440      0.0      0.0      0.0      0.0      0.0      0.0  \n",
            "1001442      0.0      0.0      0.0      0.0      0.0      0.0  \n",
            "1001444      0.0      0.0      0.0      0.0      0.0      0.0  \n",
            "1001446      0.0      0.0      0.0      0.0      0.0      0.0  \n",
            "1001448      0.0      0.0      0.0      0.0      0.0      0.0  \n",
            "1001450      0.0      0.0      0.0      0.0      0.0      0.0  \n",
            "1001452      0.0      0.0      0.0      0.0      0.0      0.0  \n",
            "1001454      0.0      0.0      0.0      0.0      0.0      0.0  \n",
            "1001456      0.0      0.0      0.0      0.0      0.0      0.0  \n",
            "1001458      0.0      0.0      0.0      0.0      0.0      0.0  \n",
            "1001460      0.0      0.0      0.0      0.0      0.0      0.0  \n",
            "1001461      0.0      0.0      0.0      0.0      0.0      0.0  \n",
            "1001462      0.0      0.0      0.0      0.0      0.0      0.0  \n",
            "1001464      0.0      0.0      0.0      0.0      0.0      0.0  \n",
            "1001466      0.0      0.0      0.0      0.0      0.0      0.0  \n",
            "1001468      0.0      0.0      0.0      0.0      0.0      0.0  \n",
            "1001470      0.0      0.0      0.0      0.0      0.0      0.0  \n",
            "1001472      0.0      0.0      0.0      0.0      0.0      0.0  \n",
            "1001488      0.0      0.0      0.0      0.0      0.0      0.0  \n",
            "1004354      0.0      0.0      0.0      0.0      0.0      0.0  \n",
            "1004355      0.0      0.0      0.0      0.0      0.0      0.0  \n",
            "1004356      0.0      0.0      0.0      0.0      0.0      0.0  \n",
            "\n",
            "[43 rows x 43 columns]\n"
          ]
        }
      ],
      "source": [
        "import pandas as pd\n",
        "\n",
        "def calculate_distance_matrix(df: pd.DataFrame) -> pd.DataFrame:\n",
        "    \"\"\"\n",
        "    Calculate the distance matrix between toll locations.\n",
        "\n",
        "    Args:\n",
        "        df (pandas.DataFrame): Input DataFrame with columns 'id_start', 'id_end', and 'distance'.\n",
        "\n",
        "    Returns:\n",
        "        pandas.DataFrame: Distance matrix with cumulative distances along known routes.\n",
        "    \"\"\"\n",
        "    # Create a pivot table to represent the distance matrix\n",
        "    distance_matrix = df.pivot(index='id_start', columns='id_end', values='distance').fillna(0)\n",
        "\n",
        "    # Make the matrix symmetric by adding its transpose\n",
        "    distance_matrix = distance_matrix.add(distance_matrix.T, fill_value=0)\n",
        "\n",
        "    # Calculate cumulative distances along known routes\n",
        "    distance_matrix = distance_matrix.cumsum(axis=1)\n",
        "\n",
        "    # Set diagonal values to 0\n",
        "    distance_matrix.values[[range(len(distance_matrix))]*2] = 0\n",
        "\n",
        "    return distance_matrix\n",
        "\n",
        "# Example usage:\n",
        "df = pd.read_csv(\"/content/dataset-3.csv\")\n",
        "result = calculate_distance_matrix(df)\n",
        "print(result)\n"
      ]
    },
    {
      "cell_type": "markdown",
      "source": [
        "Question 2: Car Type Count Calculation\n"
      ],
      "metadata": {
        "id": "VSb0GvCWu9BW"
      }
    },
    {
      "cell_type": "code",
      "source": [
        "import pandas as pd\n",
        "\n",
        "def unroll_distance_matrix(df: pd.DataFrame) -> pd.DataFrame:\n",
        "    \"\"\"\n",
        "    Unroll a distance matrix to a DataFrame in the style of the initial dataset.\n",
        "\n",
        "    Args:\n",
        "        df (pandas.DataFrame): Input DataFrame representing a distance matrix.\n",
        "\n",
        "    Returns:\n",
        "        pandas.DataFrame: Unrolled DataFrame containing columns 'id_start', 'id_end', and 'distance'.\n",
        "    \"\"\"\n",
        "    # Extract unique id_start and id_end values\n",
        "    unique_ids = pd.unique(df[['id_start', 'id_end']].values.ravel('K'))\n",
        "\n",
        "    # Create an empty DataFrame to store unrolled data\n",
        "    unrolled_df = pd.DataFrame(columns=['id_start', 'id_end', 'distance'])\n",
        "\n",
        "    # Iterate over unique id_start and id_end pairs\n",
        "    for start_id in unique_ids:\n",
        "        for end_id in unique_ids:\n",
        "            # Skip entries where id_start is equal to id_end\n",
        "            if start_id != end_id:\n",
        "                # Extract distance for the pair if available, otherwise set to NaN\n",
        "                distance_value = df.loc[(df['id_start'] == start_id) & (df['id_end'] == end_id), 'distance'].values\n",
        "                distance_value = distance_value[0] if len(distance_value) > 0 else None\n",
        "\n",
        "                # Append the data to the unrolled DataFrame\n",
        "                unrolled_df = unrolled_df.append({'id_start': start_id, 'id_end': end_id, 'distance': distance_value}, ignore_index=True)\n",
        "\n",
        "    return unrolled_df\n",
        "\n",
        "# Example usage:\n",
        "# Assuming df is the DataFrame from Question 1\n",
        "result_df = unroll_distance_matrix(df)\n",
        "print(result_df)\n"
      ],
      "metadata": {
        "id": "3dTioxaTuIBV"
      },
      "execution_count": null,
      "outputs": []
    },
    {
      "cell_type": "markdown",
      "source": [
        "Question 3: Finding IDs within Percentage Threshold"
      ],
      "metadata": {
        "id": "DtOkUjJsvquo"
      }
    },
    {
      "cell_type": "code",
      "source": [
        "import pandas as pd\n",
        "\n",
        "def find_ids_within_ten_percentage_threshold(df: pd.DataFrame, reference_id: int) -> pd.DataFrame:\n",
        "    \"\"\"\n",
        "    Find all IDs whose average distance lies within 10% of the average distance of the reference ID.\n",
        "\n",
        "    Args:\n",
        "        df (pandas.DataFrame): Input DataFrame with columns 'id_start', 'id_end', and 'distance'.\n",
        "        reference_id (int): Reference ID for calculating the average distance.\n",
        "\n",
        "    Returns:\n",
        "        pandas.DataFrame: DataFrame with IDs whose average distance is within the specified percentage threshold\n",
        "                          of the reference ID's average distance.\n",
        "    \"\"\"\n",
        "    # Filter rows with the reference_id as id_start\n",
        "    reference_data = df[df['id_start'] == reference_id]\n",
        "\n",
        "    # Calculate the average distance for the reference_id\n",
        "    reference_avg_distance = reference_data['distance'].mean()\n",
        "\n",
        "    # Calculate the threshold values\n",
        "    lower_threshold = reference_avg_distance - 0.1 * reference_avg_distance\n",
        "    upper_threshold = reference_avg_distance + 0.1 * reference_avg_distance\n",
        "\n",
        "    # Filter IDs within the 10% threshold\n",
        "    result_df = df[(df['id_start'] != reference_id) &\n",
        "                   (df['distance'] >= lower_threshold) &\n",
        "                   (df['distance'] <= upper_threshold)]\n",
        "\n",
        "    # Sort the result by id_start\n",
        "    result_df = result_df.sort_values(by='id_start').reset_index(drop=True)\n",
        "\n",
        "    return result_df\n",
        "\n",
        "# Example usage:\n",
        "# df_distance_matrix = calculate_distance_matrix(df)\n",
        "# unrolled_result = unroll_distance_matrix(df_distance_matrix)\n",
        "# result_within_threshold = find_ids_within_ten_percentage_threshold(unrolled_result, reference_id)\n"
      ],
      "metadata": {
        "id": "WdV5j8KRuIUU"
      },
      "execution_count": null,
      "outputs": []
    },
    {
      "cell_type": "markdown",
      "source": [
        "Question 4: Calculate Toll Rate"
      ],
      "metadata": {
        "id": "4-PC0yOXv16w"
      }
    },
    {
      "cell_type": "code",
      "source": [
        "import pandas as pd\n",
        "\n",
        "def calculate_toll_rate(df: pd.DataFrame) -> pd.DataFrame:\n",
        "    \"\"\"\n",
        "    Calculate toll rates for each vehicle type based on the unrolled DataFrame.\n",
        "\n",
        "    Args:\n",
        "        df (pandas.DataFrame): Input DataFrame with columns 'id_start', 'id_end', 'distance'.\n",
        "\n",
        "    Returns:\n",
        "        pandas.DataFrame: DataFrame with toll rates for each vehicle type.\n",
        "    \"\"\"\n",
        "    # Define rate coefficients for each vehicle type\n",
        "    rate_coefficients = {'moto': 0.8, 'car': 1.2, 'rv': 1.5, 'bus': 2.2, 'truck': 3.6}\n",
        "\n",
        "    # Calculate toll rates for each vehicle type\n",
        "    for vehicle_type, rate_coefficient in rate_coefficients.items():\n",
        "        df[vehicle_type] = df['distance'] * rate_coefficient\n",
        "\n",
        "    return df\n",
        "\n",
        "# Example usage:\n",
        "# df_distance_matrix = calculate_distance_matrix(df)\n",
        "# unrolled_result = unroll_distance_matrix(df_distance_matrix)\n",
        "# df_with_toll_rates = calculate_toll_rate(unrolled_result)\n"
      ],
      "metadata": {
        "id": "b4fzFO6euIkB"
      },
      "execution_count": null,
      "outputs": []
    },
    {
      "cell_type": "markdown",
      "source": [
        "Question 5: Calculate Time-Based Toll Rates"
      ],
      "metadata": {
        "id": "NhWvKWvgv_0k"
      }
    },
    {
      "cell_type": "code",
      "source": [
        "from datetime import time\n",
        "import pandas as pd\n",
        "\n",
        "def calculate_time_based_toll_rates(df: pd.DataFrame) -> pd.DataFrame:\n",
        "    \"\"\"\n",
        "    Calculate time-based toll rates for each vehicle type based on the unrolled DataFrame.\n",
        "\n",
        "    Args:\n",
        "        df (pandas.DataFrame): Input DataFrame with columns 'id_start', 'id_end', 'distance'.\n",
        "\n",
        "    Returns:\n",
        "        pandas.DataFrame: DataFrame with time-based toll rates for each vehicle type.\n",
        "    \"\"\"\n",
        "    # Define time ranges and discount factors\n",
        "    time_ranges = [(time(0, 0, 0), time(10, 0, 0)), (time(10, 0, 0), time(18, 0, 0)), (time(18, 0, 0), time(23, 59, 59))]\n",
        "    weekday_discount_factors = [0.8, 1.2, 0.8]\n",
        "    weekend_discount_factor = 0.7\n",
        "\n",
        "    # Create new columns for time-based toll rates\n",
        "    df['start_day'] = df['end_day'] = df['start_time'] = df['end_time'] = None\n",
        "\n",
        "    # Iterate over each time range and apply discount factors\n",
        "    for start_time, end_time in time_ranges:\n",
        "        # Apply discount factors for weekdays\n",
        "        df_weekday = df[df['start_day'].isin(['Monday', 'Tuesday', 'Wednesday', 'Thursday', 'Friday'])]\n",
        "        df_weekday.loc[(df_weekday['start_time'] >= start_time) & (df_weekday['start_time'] < end_time), ['start_day', 'end_day', 'start_time', 'end_time']] = ['Monday', 'Sunday', start_time, end_time]\n",
        "        df_weekday[['moto', 'car', 'rv', 'bus', 'truck']] *= weekday_discount_factors[time_ranges.index((start_time, end_time))]\n",
        "\n",
        "        # Apply constant discount factor for weekends\n",
        "        df_weekend = df[df['start_day'].isin(['Saturday', 'Sunday'])]\n",
        "        df_weekend.loc[:, ['start_day', 'end_day', 'start_time', 'end_time']] = ['Monday', 'Sunday', start_time, end_time]\n",
        "        df_weekend[['moto', 'car', 'rv', 'bus', 'truck']] *= weekend_discount_factor\n",
        "\n",
        "    # Combine the results\n",
        "    df_result = pd.concat([df_weekday, df_weekend])\n",
        "\n",
        "    return df_result\n",
        "\n",
        "# Example usage:\n",
        "# df_distance_matrix = calculate_distance_matrix(df)\n",
        "# unrolled_result = unroll_distance_matrix(df_distance_matrix)\n",
        "# df_with_time_based_toll_rates = calculate_time_based_toll_rates(unrolled_result)\n"
      ],
      "metadata": {
        "id": "ZD9O2LG4uIzI"
      },
      "execution_count": null,
      "outputs": []
    },
    {
      "cell_type": "code",
      "source": [],
      "metadata": {
        "id": "P8mkie_YuJCf"
      },
      "execution_count": null,
      "outputs": []
    },
    {
      "cell_type": "code",
      "source": [],
      "metadata": {
        "id": "gw5dhSoIuJSb"
      },
      "execution_count": null,
      "outputs": []
    },
    {
      "cell_type": "code",
      "source": [],
      "metadata": {
        "id": "wtH2zFTTuJhj"
      },
      "execution_count": null,
      "outputs": []
    },
    {
      "cell_type": "code",
      "source": [],
      "metadata": {
        "id": "6pxTwDz0uJxm"
      },
      "execution_count": null,
      "outputs": []
    },
    {
      "cell_type": "code",
      "source": [],
      "metadata": {
        "id": "_NZybBvXuKLY"
      },
      "execution_count": null,
      "outputs": []
    },
    {
      "cell_type": "code",
      "source": [],
      "metadata": {
        "id": "Gejv-GjluKdT"
      },
      "execution_count": null,
      "outputs": []
    },
    {
      "cell_type": "code",
      "source": [],
      "metadata": {
        "id": "f707uKgkuK0C"
      },
      "execution_count": null,
      "outputs": []
    },
    {
      "cell_type": "code",
      "source": [],
      "metadata": {
        "id": "3HUo87z7uL5b"
      },
      "execution_count": null,
      "outputs": []
    },
    {
      "cell_type": "code",
      "source": [],
      "metadata": {
        "id": "nRuaqaLruMQD"
      },
      "execution_count": null,
      "outputs": []
    },
    {
      "cell_type": "code",
      "source": [],
      "metadata": {
        "id": "inbBuTbbuMoD"
      },
      "execution_count": null,
      "outputs": []
    },
    {
      "cell_type": "code",
      "source": [],
      "metadata": {
        "id": "GH4t3MwCuM_f"
      },
      "execution_count": null,
      "outputs": []
    }
  ]
}